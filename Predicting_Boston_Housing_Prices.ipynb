{
  "nbformat": 4,
  "nbformat_minor": 2,
  "metadata": {
    "colab": {
      "name": "5.7_WeeklyProject_BostonHouse - Dang Quang",
      "provenance": [],
      "collapsed_sections": []
    },
    "kernelspec": {
      "name": "python3",
      "display_name": "Python 3"
    },
    "language_info": {
      "name": "python"
    }
  },
  "cells": [
    {
      "cell_type": "markdown",
      "source": [
        "# Weekly Project: Predicting Boston Housing prices"
      ],
      "metadata": {
        "id": "Sh5OPHm9f9sA"
      }
    },
    {
      "cell_type": "markdown",
      "source": [
        "In this project, you will create, evaluate the performance and predictive power of your model on data collected from homes in suburbs of Boston, Massachusetts\n",
        "\n",
        "The dataset for this project originates from the UCI Machine Learning Repository. The Boston housing data was collected in 1978 and each of the 506 entries represent aggregated data about 14 features for homes from various suburbs in Boston, Massachusetts. **Data preprocessing has been applied to your dataset**. For the purposes of this project, the following preprocessing steps have been made to the dataset:\n",
        "\n",
        "- 16 data points have an 'MEDV' value of 50.0. These data points likely contain missing or censored values and have been removed.\n",
        "- 1 data point has an 'RM' value of 8.78. This data point can be considered an outlier and has been removed.\n",
        "- The features 'RM', 'LSTAT', 'PTRATIO', and 'MEDV' are essential. The remaining non-relevant features have been excluded.\n",
        "- The feature 'MEDV' has been multiplicatively scaled to account for 35 years of market inflation.\n",
        "\n",
        "Your task is to apply a machine learning model of your choice to predict the price of houses in a Boston neighborhood (which is column 'MEDV')\n"
      ],
      "metadata": {
        "id": "poI7w8SGghl8"
      }
    },
    {
      "cell_type": "markdown",
      "source": [
        "The dataset can be accessed here: https://raw.githubusercontent.com/anhquan0412/boston_housing/master/housing.csv\n"
      ],
      "metadata": {
        "id": "nJ1Wd-C_sKli"
      }
    },
    {
      "cell_type": "markdown",
      "source": [
        "Here are the few steps you can follow"
      ],
      "metadata": {
        "id": "2rMOGC22m8N6"
      }
    },
    {
      "cell_type": "markdown",
      "source": [
        "\r\n",
        "\r\n",
        "# Step 1: Data Exploration (EDA)\r\n",
        "As a reminder, we are using three features from the Boston housing dataset: 'RM', 'LSTAT', and 'PTRATIO'. For each data point (neighborhood):\r\n",
        "\r\n",
        "- 'RM' is the average number of rooms among homes in the neighborhood.\r\n",
        "- 'LSTAT' is the percentage of homeowners in the neighborhood considered \"lower class\" (working poor).\r\n",
        "- 'PTRATIO' is the ratio of students to teachers in primary and secondary schools in the neighborhood."
      ],
      "metadata": {
        "id": "RGFzFBZmmOT6"
      }
    },
    {
      "cell_type": "code",
      "execution_count": null,
      "source": [
        "import pandas as pd\r\n",
        "import seaborn as sns\r\n",
        "import numpy as np\r\n",
        "import matplotlib.pyplot as plt"
      ],
      "outputs": [],
      "metadata": {
        "id": "-nHh-FYPm98r"
      }
    },
    {
      "cell_type": "code",
      "execution_count": null,
      "source": [
        "df = pd.read_csv('https://raw.githubusercontent.com/anhquan0412/boston_housing/master/housing.csv')\r\n",
        "df.head()"
      ],
      "outputs": [
        {
          "output_type": "execute_result",
          "data": {
            "text/plain": [
              "      RM  LSTAT  PTRATIO      MEDV\n",
              "0  6.575   4.98     15.3  504000.0\n",
              "1  6.421   9.14     17.8  453600.0\n",
              "2  7.185   4.03     17.8  728700.0\n",
              "3  6.998   2.94     18.7  701400.0\n",
              "4  7.147   5.33     18.7  760200.0"
            ],
            "text/html": [
              "<div>\n",
              "<style scoped>\n",
              "    .dataframe tbody tr th:only-of-type {\n",
              "        vertical-align: middle;\n",
              "    }\n",
              "\n",
              "    .dataframe tbody tr th {\n",
              "        vertical-align: top;\n",
              "    }\n",
              "\n",
              "    .dataframe thead th {\n",
              "        text-align: right;\n",
              "    }\n",
              "</style>\n",
              "<table border=\"1\" class=\"dataframe\">\n",
              "  <thead>\n",
              "    <tr style=\"text-align: right;\">\n",
              "      <th></th>\n",
              "      <th>RM</th>\n",
              "      <th>LSTAT</th>\n",
              "      <th>PTRATIO</th>\n",
              "      <th>MEDV</th>\n",
              "    </tr>\n",
              "  </thead>\n",
              "  <tbody>\n",
              "    <tr>\n",
              "      <th>0</th>\n",
              "      <td>6.575</td>\n",
              "      <td>4.98</td>\n",
              "      <td>15.3</td>\n",
              "      <td>504000.0</td>\n",
              "    </tr>\n",
              "    <tr>\n",
              "      <th>1</th>\n",
              "      <td>6.421</td>\n",
              "      <td>9.14</td>\n",
              "      <td>17.8</td>\n",
              "      <td>453600.0</td>\n",
              "    </tr>\n",
              "    <tr>\n",
              "      <th>2</th>\n",
              "      <td>7.185</td>\n",
              "      <td>4.03</td>\n",
              "      <td>17.8</td>\n",
              "      <td>728700.0</td>\n",
              "    </tr>\n",
              "    <tr>\n",
              "      <th>3</th>\n",
              "      <td>6.998</td>\n",
              "      <td>2.94</td>\n",
              "      <td>18.7</td>\n",
              "      <td>701400.0</td>\n",
              "    </tr>\n",
              "    <tr>\n",
              "      <th>4</th>\n",
              "      <td>7.147</td>\n",
              "      <td>5.33</td>\n",
              "      <td>18.7</td>\n",
              "      <td>760200.0</td>\n",
              "    </tr>\n",
              "  </tbody>\n",
              "</table>\n",
              "</div>"
            ]
          },
          "metadata": {
            "tags": []
          },
          "execution_count": 26
        }
      ],
      "metadata": {
        "colab": {
          "base_uri": "https://localhost:8080/",
          "height": 195
        },
        "id": "u-SZ_kWVYPUx",
        "outputId": "a04bd154-79e6-497e-e9ae-e38ce1c59ca0"
      }
    },
    {
      "cell_type": "markdown",
      "source": [
        "## Overview data"
      ],
      "metadata": {
        "id": "Zhg9i4Vta1MG"
      }
    },
    {
      "cell_type": "code",
      "execution_count": null,
      "source": [
        "df.info()"
      ],
      "outputs": [
        {
          "output_type": "stream",
          "name": "stdout",
          "text": [
            "<class 'pandas.core.frame.DataFrame'>\n",
            "RangeIndex: 489 entries, 0 to 488\n",
            "Data columns (total 4 columns):\n",
            " #   Column   Non-Null Count  Dtype  \n",
            "---  ------   --------------  -----  \n",
            " 0   RM       489 non-null    float64\n",
            " 1   LSTAT    489 non-null    float64\n",
            " 2   PTRATIO  489 non-null    float64\n",
            " 3   MEDV     489 non-null    float64\n",
            "dtypes: float64(4)\n",
            "memory usage: 15.4 KB\n"
          ]
        }
      ],
      "metadata": {
        "colab": {
          "base_uri": "https://localhost:8080/"
        },
        "id": "ZvtTct1zaOXG",
        "outputId": "a2fbab0d-ed15-4faf-e1eb-017af0aed5ba"
      }
    },
    {
      "cell_type": "code",
      "execution_count": null,
      "source": [
        "df.describe()"
      ],
      "outputs": [
        {
          "output_type": "execute_result",
          "data": {
            "text/plain": [
              "               RM       LSTAT     PTRATIO          MEDV\n",
              "count  489.000000  489.000000  489.000000  4.890000e+02\n",
              "mean     6.240288   12.939632   18.516564  4.543429e+05\n",
              "std      0.643650    7.081990    2.111268  1.653403e+05\n",
              "min      3.561000    1.980000   12.600000  1.050000e+05\n",
              "25%      5.880000    7.370000   17.400000  3.507000e+05\n",
              "50%      6.185000   11.690000   19.100000  4.389000e+05\n",
              "75%      6.575000   17.120000   20.200000  5.187000e+05\n",
              "max      8.398000   37.970000   22.000000  1.024800e+06"
            ],
            "text/html": [
              "<div>\n",
              "<style scoped>\n",
              "    .dataframe tbody tr th:only-of-type {\n",
              "        vertical-align: middle;\n",
              "    }\n",
              "\n",
              "    .dataframe tbody tr th {\n",
              "        vertical-align: top;\n",
              "    }\n",
              "\n",
              "    .dataframe thead th {\n",
              "        text-align: right;\n",
              "    }\n",
              "</style>\n",
              "<table border=\"1\" class=\"dataframe\">\n",
              "  <thead>\n",
              "    <tr style=\"text-align: right;\">\n",
              "      <th></th>\n",
              "      <th>RM</th>\n",
              "      <th>LSTAT</th>\n",
              "      <th>PTRATIO</th>\n",
              "      <th>MEDV</th>\n",
              "    </tr>\n",
              "  </thead>\n",
              "  <tbody>\n",
              "    <tr>\n",
              "      <th>count</th>\n",
              "      <td>489.000000</td>\n",
              "      <td>489.000000</td>\n",
              "      <td>489.000000</td>\n",
              "      <td>4.890000e+02</td>\n",
              "    </tr>\n",
              "    <tr>\n",
              "      <th>mean</th>\n",
              "      <td>6.240288</td>\n",
              "      <td>12.939632</td>\n",
              "      <td>18.516564</td>\n",
              "      <td>4.543429e+05</td>\n",
              "    </tr>\n",
              "    <tr>\n",
              "      <th>std</th>\n",
              "      <td>0.643650</td>\n",
              "      <td>7.081990</td>\n",
              "      <td>2.111268</td>\n",
              "      <td>1.653403e+05</td>\n",
              "    </tr>\n",
              "    <tr>\n",
              "      <th>min</th>\n",
              "      <td>3.561000</td>\n",
              "      <td>1.980000</td>\n",
              "      <td>12.600000</td>\n",
              "      <td>1.050000e+05</td>\n",
              "    </tr>\n",
              "    <tr>\n",
              "      <th>25%</th>\n",
              "      <td>5.880000</td>\n",
              "      <td>7.370000</td>\n",
              "      <td>17.400000</td>\n",
              "      <td>3.507000e+05</td>\n",
              "    </tr>\n",
              "    <tr>\n",
              "      <th>50%</th>\n",
              "      <td>6.185000</td>\n",
              "      <td>11.690000</td>\n",
              "      <td>19.100000</td>\n",
              "      <td>4.389000e+05</td>\n",
              "    </tr>\n",
              "    <tr>\n",
              "      <th>75%</th>\n",
              "      <td>6.575000</td>\n",
              "      <td>17.120000</td>\n",
              "      <td>20.200000</td>\n",
              "      <td>5.187000e+05</td>\n",
              "    </tr>\n",
              "    <tr>\n",
              "      <th>max</th>\n",
              "      <td>8.398000</td>\n",
              "      <td>37.970000</td>\n",
              "      <td>22.000000</td>\n",
              "      <td>1.024800e+06</td>\n",
              "    </tr>\n",
              "  </tbody>\n",
              "</table>\n",
              "</div>"
            ]
          },
          "metadata": {
            "tags": []
          },
          "execution_count": 28
        }
      ],
      "metadata": {
        "colab": {
          "base_uri": "https://localhost:8080/",
          "height": 284
        },
        "id": "ZqaLokIhQzmQ",
        "outputId": "03f7eced-30b9-469d-f711-1bbc50949b56"
      }
    },
    {
      "cell_type": "markdown",
      "source": [
        "## Data visualization"
      ],
      "metadata": {
        "id": "ESY_S-aBbHU1"
      }
    },
    {
      "cell_type": "code",
      "execution_count": null,
      "source": [
        "# relation of RM and MEDV\r\n",
        "RM = df[['RM','MEDV']]\r\n",
        "plt.figure(figsize=(15,7))\r\n",
        "sns.scatterplot(data=RM, x='MEDV', y='RM')"
      ],
      "outputs": [
        {
          "output_type": "execute_result",
          "data": {
            "text/plain": [
              "<matplotlib.axes._subplots.AxesSubplot at 0x7facb3c1bc50>"
            ]
          },
          "metadata": {
            "tags": []
          },
          "execution_count": 29
        },
        {
          "output_type": "display_data",
          "data": {
            "text/plain": [
              "<Figure size 1080x504 with 1 Axes>"
            ],
            "image/png": "[encoded data removed]"
          },
          "metadata": {
            "tags": [],
            "needs_background": "light"
          }
        }
      ],
      "metadata": {
        "colab": {
          "base_uri": "https://localhost:8080/",
          "height": 459
        },
        "id": "78W0wZFkbPPB",
        "outputId": "cd4170cd-45e7-40b2-f6cc-409a2531f57a"
      }
    },
    {
      "cell_type": "markdown",
      "source": [
        "From the scatter chart, we can say that RM and MEDV have the relation to each other (RM increase lead to increase of MEDV)"
      ],
      "metadata": {
        "id": "Hi7Q70G2coeS"
      }
    },
    {
      "cell_type": "code",
      "execution_count": null,
      "source": [
        "LSTAT = df[['LSTAT','MEDV']]\r\n",
        "plt.figure(figsize=(15,7))\r\n",
        "sns.scatterplot(data=LSTAT, x='MEDV', y='LSTAT')"
      ],
      "outputs": [
        {
          "output_type": "execute_result",
          "data": {
            "text/plain": [
              "<matplotlib.axes._subplots.AxesSubplot at 0x7facb1265650>"
            ]
          },
          "metadata": {
            "tags": []
          },
          "execution_count": 30
        },
        {
          "output_type": "display_data",
          "data": {
            "text/plain": [
              "<Figure size 1080x504 with 1 Axes>"
            ],
            "image/png": "[encoded data removed]"
          },
          "metadata": {
            "tags": [],
            "needs_background": "light"
          }
        }
      ],
      "metadata": {
        "colab": {
          "base_uri": "https://localhost:8080/",
          "height": 459
        },
        "id": "UCkbqtsodLyP",
        "outputId": "2a2ec3ee-2553-4710-8d76-3b066655b682"
      }
    },
    {
      "cell_type": "markdown",
      "source": [
        "From the scatter chart, we can say that LSTAT and MEDV have the relation to each other (LSTAT decrease lead to increase of MEDV)"
      ],
      "metadata": {
        "id": "1MB2Enz5dyN2"
      }
    },
    {
      "cell_type": "code",
      "execution_count": null,
      "source": [
        "PTRATIO = df[['PTRATIO','MEDV']]\r\n",
        "plt.figure(figsize=(15,7))\r\n",
        "sns.scatterplot(data=PTRATIO, x='MEDV', y='PTRATIO')"
      ],
      "outputs": [
        {
          "output_type": "execute_result",
          "data": {
            "text/plain": [
              "<matplotlib.axes._subplots.AxesSubplot at 0x7facb11c5510>"
            ]
          },
          "metadata": {
            "tags": []
          },
          "execution_count": 31
        },
        {
          "output_type": "display_data",
          "data": {
            "text/plain": [
              "<Figure size 1080x504 with 1 Axes>"
            ],
            "image/png": "[encoded data removed]"
          },
          "metadata": {
            "tags": [],
            "needs_background": "light"
          }
        }
      ],
      "metadata": {
        "colab": {
          "base_uri": "https://localhost:8080/",
          "height": 459
        },
        "id": "aUaGtBdv_qKC",
        "outputId": "ae17409f-48d2-4d0c-c95d-24a5a8cbb1b4"
      }
    },
    {
      "cell_type": "code",
      "execution_count": null,
      "source": [
        "PTRATIO = df.groupby('PTRATIO')['MEDV'].mean().reset_index()\r\n",
        "plt.figure(figsize=(15,4))\r\n",
        "sns.scatterplot(data=PTRATIO, x='MEDV', y='PTRATIO')"
      ],
      "outputs": [
        {
          "output_type": "execute_result",
          "data": {
            "text/plain": [
              "<matplotlib.axes._subplots.AxesSubplot at 0x7facb0ff0710>"
            ]
          },
          "metadata": {
            "tags": []
          },
          "execution_count": 32
        },
        {
          "output_type": "display_data",
          "data": {
            "text/plain": [
              "<Figure size 1080x288 with 1 Axes>"
            ],
            "image/png": "[encoded data removed]"
          },
          "metadata": {
            "tags": [],
            "needs_background": "light"
          }
        }
      ],
      "metadata": {
        "colab": {
          "base_uri": "https://localhost:8080/",
          "height": 296
        },
        "id": "xtrAPcX3d_YH",
        "outputId": "f04251e6-4d1f-4c95-f28a-b3cf35d19d84"
      }
    },
    {
      "cell_type": "markdown",
      "source": [
        "From the scatter chart, we can say that PTRATIO and MEDV have the relation to each other (PTRATIO decrease lead to increase of MEDV)"
      ],
      "metadata": {
        "id": "8j7pGoqkerbD"
      }
    },
    {
      "cell_type": "markdown",
      "source": [
        "# Step 2: Get to know our performance Metric\n",
        "\n",
        "Do a quick read on R2 score, because that is going to be the metric we are going to use for this task.\n",
        "\n",
        "https://scikit-learn.org/stable/modules/generated/sklearn.metrics.r2_score.html\n",
        "\n",
        "https://scikit-learn.org/stable/modules/model_evaluation.html#r2-score\n",
        "\n",
        "**Question**: what is the range of R2? How can we know if a model performs well or not by using R2 score?\n",
        "\n",
        "**Answer**: between **0 and 1** and it can be negative (because the model can be arbitrarily worse)\n",
        "\n",
        "**Question**: Calculate R2 score on these data points\n",
        "```python\n",
        "y_true = [3, -0.5, 2, 7, 4.2]\n",
        "y_pred = [2.5, 0, 2.1, 7.8, 5.3]\n",
        "```\n",
        "If a model is making these prediction (y_pred), is this a good model?\n",
        "\n",
        "**Answer**: The R2 score is 0.92 so it's a good model"
      ],
      "metadata": {
        "id": "yEi9eqNqm-RH"
      }
    },
    {
      "cell_type": "code",
      "execution_count": null,
      "source": [
        "from sklearn.metrics import r2_score\r\n",
        "y_true = [3, -0.5, 2, 7, 4.2]\r\n",
        "y_pred = [2.5, 0, 2.1, 7.8, 5.3]\r\n",
        "r2_score(y_true, y_pred)"
      ],
      "outputs": [
        {
          "output_type": "execute_result",
          "data": {
            "text/plain": [
              "0.9228556485355649"
            ]
          },
          "metadata": {
            "tags": []
          },
          "execution_count": 33
        }
      ],
      "metadata": {
        "id": "ArkOOX2MnvoF",
        "colab": {
          "base_uri": "https://localhost:8080/"
        },
        "outputId": "9e005000-6421-4ed1-bb2a-07b5b84f1dab"
      }
    },
    {
      "cell_type": "markdown",
      "source": [
        "# Step 3: Train our machine learning model\n",
        "\n",
        "There won't be much guidance for this step. Your task is to pick and train a machine learning model on this dataset to predict the house price. Make sure to follow all the recommended practices we mention in class. And make sure to finetune your model and pick the best set of hyperparameters (using cross_val_score)\n",
        "\n",
        "\n",
        "Bonus part: if you want to make your whole finetuning model painless, take a look at GridSearchCV. Read the documentation here: https://scikit-learn.org/stable/modules/generated/sklearn.model_selection.GridSearchCV.html, and user guide here: https://scikit-learn.org/stable/modules/grid_search.html#grid-search\n",
        "\n"
      ],
      "metadata": {
        "id": "X78OJElUnwfE"
      }
    },
    {
      "cell_type": "code",
      "execution_count": null,
      "source": [
        "X = df.drop(columns='MEDV')\r\n",
        "y = df['MEDV']"
      ],
      "outputs": [],
      "metadata": {
        "id": "5AufS9xkpbO1"
      }
    },
    {
      "cell_type": "code",
      "execution_count": null,
      "source": [
        "from sklearn.model_selection import train_test_split\n",
        "X_train, X_test, y_train, y_test = train_test_split(X, y, test_size=0.2, random_state=45)"
      ],
      "outputs": [],
      "metadata": {
        "id": "_L9p51DikcDZ"
      }
    },
    {
      "cell_type": "code",
      "execution_count": null,
      "source": [
        "def print_top_k_params(cv_results, k, greater_is_better=False,cv=5,show_split_score=True):\n",
        "    mult=1 if greater_is_better else -1\n",
        "    list_of_split_score = [cv_results[f'split{i}_test_score'] for i in range(cv)]\n",
        "    sorted_result = sorted(zip(mult*cv_results['mean_test_score'],cv_results['std_test_score'],cv_results['params'],*list_of_split_score),\n",
        "                           key= lambda x: x[0],reverse=greater_is_better)\n",
        "    sorted_result = sorted_result[:k]\n",
        "    for i,(score,std,params,*scores) in enumerate(sorted_result):\n",
        "        print('-'*10)\n",
        "        print(f'#{i+1} with mean score: {score:.4f}, score std: {std:.4f}')\n",
        "        if show_split_score:\n",
        "            print(f'Scores {cv} folds: {[round(mult*s,4) for s in scores]}')\n",
        "        print(f'Hyperparams: {params}')"
      ],
      "outputs": [],
      "metadata": {
        "id": "EeCpQJUvqBFz"
      }
    },
    {
      "cell_type": "markdown",
      "source": [
        "## LinearRegression"
      ],
      "metadata": {
        "id": "ynpk-uQgnHWH"
      }
    },
    {
      "cell_type": "code",
      "execution_count": null,
      "source": [
        "from sklearn.linear_model import LinearRegression, Ridge, Lasso, ElasticNet\n",
        "# pipe2 = Pipeline([('scaler', StandardScaler()),\n",
        "#                   ('model', LinearRegression())])\n",
        "ln = LinearRegression(normalize=True)\n",
        "ln.fit(X_train, y_train)\n",
        "y_train_pred2 = ln.predict(X_train)\n",
        "y_test_pred2 = ln.predict(X_test)\n",
        "print(f'ACC train: {ln.score(X_train, y_train)}')\n",
        "print(f'ACC test: {ln.score(X_test, y_test)}',end='\\n\\n')\n",
        "print(f'R2 train: {r2_score(y_train, y_train_pred2)}')\n",
        "print(f'R2 test: {r2_score(y_test, y_test_pred2)}')"
      ],
      "outputs": [
        {
          "output_type": "stream",
          "name": "stdout",
          "text": [
            "ACC train: 0.7152123258776618\n",
            "ACC test: 0.7126646671224833\n",
            "\n",
            "R2 train: 0.7152123258776618\n",
            "R2 test: 0.7126646671224833\n"
          ]
        }
      ],
      "metadata": {
        "colab": {
          "base_uri": "https://localhost:8080/"
        },
        "id": "IgwI7UUWnJp_",
        "outputId": "04ac508d-809f-4ae8-b8ba-95dc2ff229cd"
      }
    },
    {
      "cell_type": "code",
      "execution_count": null,
      "source": [
        "from sklearn.preprocessing import StandardScaler\n",
        "from sklearn.pipeline import Pipeline\n",
        "pipe4 = Pipeline([('scaler', StandardScaler()),\n",
        "                 ('model', LinearRegression())])\n",
        "pipe4.fit(X_train, y_train)\n",
        "y_pd = pipe4.predict(X_train)\n",
        "y_test_pd = pipe4.predict(X_test)\n",
        "y_tt_pd = pipe4.predict(X)\n",
        "print(f'R2 score on train set: {r2_score(y_train, y_pd)}')\n",
        "print(f'R2 score on test set: {r2_score(y_test, y_test_pd)}')"
      ],
      "outputs": [
        {
          "output_type": "stream",
          "name": "stdout",
          "text": [
            "R2 score on train set: 0.7152123258776618\n",
            "R2 score on test set: 0.7126646671224833\n"
          ]
        }
      ],
      "metadata": {
        "colab": {
          "base_uri": "https://localhost:8080/"
        },
        "id": "R1X9uBItfncA",
        "outputId": "69df67cc-e7f4-41ad-bde7-c1423c9143a7"
      }
    },
    {
      "cell_type": "markdown",
      "source": [
        "### Ridge"
      ],
      "metadata": {
        "id": "V-8azkDtNp1D"
      }
    },
    {
      "cell_type": "code",
      "execution_count": null,
      "source": [
        "from sklearn.model_selection import cross_val_score\n",
        "val_error_rate = []\n",
        "C = range(1,100,2) # hyperparameters\n",
        "for i in C:\n",
        "    ridge = Ridge(alpha=(1/i),normalize=True)\n",
        "    val_error = 1 - cross_val_score(ridge, X, y, cv=5,scoring='r2').mean() # accuracy => error: 1 - accuracy\n",
        "    val_error_rate.append(val_error)\n",
        "\n",
        "plt.figure(figsize=(15,7))\n",
        "plt.plot(C, val_error_rate, color='orange', linestyle='dashed', marker='o',\n",
        "         markerfacecolor='black', markersize=5, label='Validation Error')\n",
        "\n",
        "plt.xticks(np.arange(C.start, C.stop, C.step), rotation=45)\n",
        "plt.grid()\n",
        "plt.legend()\n",
        "plt.title('Validation Error vs. C Value')\n",
        "plt.xlabel('C')\n",
        "plt.ylabel('Validation Error')\n",
        "plt.show()"
      ],
      "outputs": [
        {
          "output_type": "display_data",
          "data": {
            "text/plain": [
              "<Figure size 1080x504 with 1 Axes>"
            ],
            "image/png": "[encoded data removed]"
          },
          "metadata": {
            "tags": [],
            "needs_background": "light"
          }
        }
      ],
      "metadata": {
        "colab": {
          "base_uri": "https://localhost:8080/",
          "height": 465
        },
        "id": "UN3SawKmrEOK",
        "outputId": "5fb4079d-2070-432f-c907-e5ca744a30c1"
      }
    },
    {
      "cell_type": "code",
      "execution_count": null,
      "source": [
        "ridge = Ridge(alpha=(1/7))\n",
        "ridge.fit(X_train, y_train)\n",
        "y_train_pred3 = ridge.predict(X_train)\n",
        "y_test_pred3 = ridge.predict(X_test)\n",
        "\n",
        "print(f'ACC train: {ridge.score(X_train, y_train)}')\n",
        "print(f'ACC test: {ridge.score(X_test, y_test)}',end='\\n\\n')\n",
        "print(f'R2 train: {r2_score(y_train, y_train_pred3)}')\n",
        "print(f'R2 test: {r2_score(y_test, y_test_pred3)}')"
      ],
      "outputs": [
        {
          "output_type": "stream",
          "name": "stdout",
          "text": [
            "ACC train: 0.7152122138496927\n",
            "ACC test: 0.7125757718131878\n",
            "\n",
            "R2 train: 0.7152122138496927\n",
            "R2 test: 0.7125757718131878\n"
          ]
        }
      ],
      "metadata": {
        "colab": {
          "base_uri": "https://localhost:8080/"
        },
        "id": "SkHKNmnBsYNy",
        "outputId": "e7aba3d0-177d-4cb0-b599-035acfaddc5f"
      }
    },
    {
      "cell_type": "markdown",
      "source": [
        "## PolynomialFeatures"
      ],
      "metadata": {
        "id": "S2ynZGt8LgWP"
      }
    },
    {
      "cell_type": "code",
      "execution_count": null,
      "source": [
        "from sklearn.preprocessing import PolynomialFeatures\n",
        "poly = PolynomialFeatures(degree=4)\n",
        "X_train_poly = poly.fit_transform(X_train)\n",
        "X_test_poly = poly.fit_transform(X_test)\n",
        "ln.fit(X_train_poly, y_train)\n",
        "y_poly_pred = ln.predict(X_train_poly)\n",
        "y_test_poly_pred = ln.predict(X_test_poly)\n",
        "print(r2_score(y_train, y_poly_pred))\n",
        "print(r2_score(y_test, y_test_poly_pred))\n"
      ],
      "outputs": [
        {
          "output_type": "stream",
          "name": "stdout",
          "text": [
            "0.8590230403767662\n",
            "0.8456146639153608\n"
          ]
        }
      ],
      "metadata": {
        "id": "8G_uOgT-LoaX",
        "colab": {
          "base_uri": "https://localhost:8080/"
        },
        "outputId": "4bc846ac-484d-46af-e291-76973d375aab"
      }
    },
    {
      "cell_type": "code",
      "execution_count": null,
      "source": [
        "from sklearn.model_selection import cross_val_score\n",
        "val_error_rate = []\n",
        "\n",
        "C = range(1,4) # hyperparameters\n",
        "for i in C:\n",
        "    poly = PolynomialFeatures(degree=i)\n",
        "    X_poly = poly.fit_transform(X)\n",
        "    val_error = 1 - cross_val_score(ln, X_poly, y, cv=5,scoring='r2').mean() # accuracy => error: 1 - accuracy\n",
        "    val_error_rate.append(val_error)\n",
        "\n",
        "plt.figure(figsize=(15,7))\n",
        "plt.plot(C, val_error_rate, color='orange', linestyle='dashed', marker='o',\n",
        "         markerfacecolor='black', markersize=5, label='Validation Error')\n",
        "\n",
        "plt.xticks(np.arange(C.start, C.stop, C.step), rotation=45)\n",
        "plt.grid()\n",
        "plt.legend()\n",
        "plt.title('Validation Error vs. C Value')\n",
        "plt.xlabel('C')\n",
        "plt.ylabel('Validation Error')\n",
        "plt.show()"
      ],
      "outputs": [
        {
          "output_type": "display_data",
          "data": {
            "text/plain": [
              "<Figure size 1080x504 with 1 Axes>"
            ],
            "image/png": "[encoded data removed]"
          },
          "metadata": {
            "tags": [],
            "needs_background": "light"
          }
        }
      ],
      "metadata": {
        "colab": {
          "base_uri": "https://localhost:8080/",
          "height": 460
        },
        "id": "VF9eHEUp02NC",
        "outputId": "811725f9-6494-486a-e1bc-33f763152fb2"
      }
    },
    {
      "cell_type": "markdown",
      "source": [
        "## KNeighborsRegressor"
      ],
      "metadata": {
        "id": "UpnvQTk3nCAq"
      }
    },
    {
      "cell_type": "markdown",
      "source": [
        "### No Preprocessing"
      ],
      "metadata": {
        "id": "qf42r0vPNwwM"
      }
    },
    {
      "cell_type": "code",
      "execution_count": null,
      "source": [
        "\n",
        "from sklearn.neighbors import KNeighborsRegressor\n",
        "\n",
        "val_error_rate = []\n",
        "neighbors_range = range(1,100,2) # hyperparameters\n",
        "for i in neighbors_range:\n",
        "    knn = KNeighborsRegressor(n_neighbors=i, p=2)\n",
        "    val_error = 1 - cross_val_score(knn, X, y, cv=5).mean() # accuracy => error: 1 - accuracy\n",
        "    val_error_rate.append(val_error)\n",
        "    \n",
        "plt.figure(figsize=(15,7))\n",
        "plt.plot(neighbors_range, val_error_rate, color='orange', linestyle='dashed', marker='o',\n",
        "         markerfacecolor='black', markersize=5, label='Validation Error')\n",
        "\n",
        "plt.xticks(np.arange(neighbors_range.start, neighbors_range.stop, neighbors_range.step), rotation=45)\n",
        "plt.grid()\n",
        "plt.legend()\n",
        "plt.title('Validation Error vs. K Value')\n",
        "plt.xlabel('K')\n",
        "plt.ylabel('Validation Error')\n",
        "plt.show()"
      ],
      "outputs": [
        {
          "output_type": "display_data",
          "data": {
            "text/plain": [
              "<Figure size 1080x504 with 1 Axes>"
            ],
            "image/png": "[encoded data removed]"
          },
          "metadata": {
            "tags": [],
            "needs_background": "light"
          }
        }
      ],
      "metadata": {
        "colab": {
          "base_uri": "https://localhost:8080/",
          "height": 465
        },
        "id": "JS8FjIf6iJ4q",
        "outputId": "d0c75348-7c1e-4ac2-c63a-d2d2defdd97f"
      }
    },
    {
      "cell_type": "code",
      "execution_count": null,
      "source": [
        "kn = KNeighborsRegressor(n_neighbors=7, p=2)\n",
        "kn.fit(X_train,y_train)\n",
        "y_train_pred = kn.predict(X_train)\n",
        "y_test_pred = kn.predict(X_test)\n",
        "print(f'ACC train: {kn.score(X_train, y_train)}')\n",
        "print(f'ACC test: {kn.score(X_test, y_test)}',end='\\n\\n')\n",
        "print(f'R2 train: {r2_score(y_train, y_train_pred)}')\n",
        "print(f'R2 test: {r2_score(y_test, y_test_pred)}')\n",
        "# print(f'')\n",
        "# kn.score(X_test, y_test)"
      ],
      "outputs": [
        {
          "output_type": "stream",
          "name": "stdout",
          "text": [
            "ACC train: 0.8245507521089721\n",
            "ACC test: 0.7978119777797591\n",
            "\n",
            "R2 train: 0.8245507521089721\n",
            "R2 test: 0.7978119777797592\n"
          ]
        }
      ],
      "metadata": {
        "colab": {
          "base_uri": "https://localhost:8080/"
        },
        "id": "aYRs3wgKiyJW",
        "outputId": "5cef2f22-e51d-433b-9731-4d15f129eff9"
      }
    },
    {
      "cell_type": "markdown",
      "source": [
        "### Compare MinMaxScaler & StandardScaler"
      ],
      "metadata": {
        "id": "3_MrxDEtN6lE"
      }
    },
    {
      "cell_type": "code",
      "execution_count": null,
      "source": [
        "from sklearn.model_selection import cross_val_score\n",
        "from sklearn.neighbors import KNeighborsRegressor\n",
        "from sklearn.preprocessing import MinMaxScaler\n",
        "from sklearn.preprocessing import StandardScaler\n",
        "\n",
        "X_mms = MinMaxScaler().fit_transform(X)\n",
        "X_std = StandardScaler().fit_transform(X)\n",
        "val_error_rate = []\n",
        "neighbors_range = range(1,100,2) # hyperparameters\n",
        "for i in neighbors_range:\n",
        "    knn = KNeighborsRegressor(n_neighbors=i, p=2)\n",
        "    val_error = 1 - cross_val_score(knn, X_mms, y, cv=5).mean() # accuracy => error: 1 - accuracy\n",
        "    val_error_rate.append(val_error)\n",
        "    \n",
        "plt.figure(figsize=(15,7))\n",
        "plt.plot(neighbors_range, val_error_rate, color='red', linestyle='dashed', marker='o',\n",
        "         markerfacecolor='black', markersize=5, label='MinMaxScaler')\n",
        "\n",
        "val_error_rate = []\n",
        "neighbors_range = range(1,100,2) # hyperparameters\n",
        "for i in neighbors_range:\n",
        "    knn = KNeighborsRegressor(n_neighbors=i, p=2)\n",
        "    val_error = 1 - cross_val_score(knn, X_std, y, cv=5).mean() # accuracy => error: 1 - accuracy\n",
        "    val_error_rate.append(val_error)\n",
        "\n",
        "plt.plot(neighbors_range, val_error_rate, color='blue', linestyle='dashed', marker='o',\n",
        "         markerfacecolor='black', markersize=5, label='StandardScaler')\n",
        "\n",
        "plt.xticks(np.arange(neighbors_range.start, neighbors_range.stop, neighbors_range.step), rotation=45)\n",
        "plt.grid()\n",
        "plt.legend()\n",
        "plt.title('Validation Error vs. K Value')\n",
        "plt.xlabel('K')\n",
        "plt.ylabel('Validation Error')\n",
        "plt.show()"
      ],
      "outputs": [
        {
          "output_type": "display_data",
          "data": {
            "text/plain": [
              "<Figure size 1080x504 with 1 Axes>"
            ],
            "image/png": "[encoded data removed]"
          },
          "metadata": {
            "tags": [],
            "needs_background": "light"
          }
        }
      ],
      "metadata": {
        "colab": {
          "base_uri": "https://localhost:8080/",
          "height": 465
        },
        "id": "RcBr93oXtYII",
        "outputId": "093adc3c-6daf-46ab-8d18-8ca19fa0f44e"
      }
    },
    {
      "cell_type": "code",
      "execution_count": null,
      "source": [
        "pipe = Pipeline([('scaler', StandardScaler()),\n",
        "                 ('model', KNeighborsRegressor(n_neighbors=11, p=2))])\n",
        "pipe.fit(X_train, y_train)\n",
        "y_pd = pipe.predict(X_train)\n",
        "y_test_pd = pipe.predict(X_test)\n",
        "y_tt_pd = pipe.predict(X)\n",
        "print(f'R2 Score on Train set: {r2_score(y_train, y_pd)}')\n",
        "print(f'R2 Score on Test set: {r2_score(y_test, y_test_pd)}')\n",
        "print(f'R2 Score on the whole data set: {r2_score(y, y_tt_pd)}')"
      ],
      "outputs": [
        {
          "output_type": "stream",
          "name": "stdout",
          "text": [
            "R2 Score on Train set: 0.8441124275862348\n",
            "R2 Score on Test set: 0.8514107070499728\n",
            "R2 Score on the whole data set: 0.8463812998624984\n"
          ]
        }
      ],
      "metadata": {
        "colab": {
          "base_uri": "https://localhost:8080/"
        },
        "id": "r0NTDg_cvljG",
        "outputId": "648acaf1-7954-44a8-bc4e-e2f24e2607f9"
      }
    },
    {
      "cell_type": "code",
      "execution_count": null,
      "source": [
        "X_transformed = pipe['scaler'].fit_transform(X)\n",
        "X_transformed"
      ],
      "outputs": [
        {
          "output_type": "execute_result",
          "data": {
            "text/plain": [
              "array([[ 0.52055395, -1.1250769 , -1.5250831 ],\n",
              "       [ 0.28104837, -0.53706982, -0.33974768],\n",
              "       [ 1.46924486, -1.25935736, -0.33974768],\n",
              "       ...,\n",
              "       [ 1.14420158, -1.03178731,  1.17748167],\n",
              "       [ 0.86114953, -0.91305511,  1.17748167],\n",
              "       [-0.32704695, -0.71516812,  1.17748167]])"
            ]
          },
          "metadata": {
            "tags": []
          },
          "execution_count": 45
        }
      ],
      "metadata": {
        "colab": {
          "base_uri": "https://localhost:8080/"
        },
        "id": "S0rdXdcT0RCs",
        "outputId": "89c4aad3-09f1-4cf0-f6d1-d51f453488ec"
      }
    },
    {
      "cell_type": "markdown",
      "source": [
        "## GridSearchCV"
      ],
      "metadata": {
        "id": "C3q0JkOmcmNb"
      }
    },
    {
      "cell_type": "code",
      "execution_count": null,
      "source": [
        "KNeighborsRegressor().get_params()"
      ],
      "outputs": [
        {
          "output_type": "execute_result",
          "data": {
            "text/plain": [
              "{'algorithm': 'auto',\n",
              " 'leaf_size': 30,\n",
              " 'metric': 'minkowski',\n",
              " 'metric_params': None,\n",
              " 'n_jobs': None,\n",
              " 'n_neighbors': 5,\n",
              " 'p': 2,\n",
              " 'weights': 'uniform'}"
            ]
          },
          "metadata": {
            "tags": []
          },
          "execution_count": 46
        }
      ],
      "metadata": {
        "id": "5RTnyH4JSYkM",
        "colab": {
          "base_uri": "https://localhost:8080/"
        },
        "outputId": "cd883811-02c6-4624-d8f6-df0734eb099f"
      }
    },
    {
      "cell_type": "code",
      "execution_count": null,
      "source": [
        "from sklearn.model_selection import GridSearchCV\n",
        "ks = range(1,20,2)\n",
        "# weight =['uniform', 'distance']\n",
        "# p = [1, 2]\n",
        "model = KNeighborsRegressor()\n",
        "KNN = GridSearchCV(model, param_grid=dict(n_neighbors=ks), cv=5, scoring='r2')\n",
        "KNN.fit(X_transformed, y)\n",
        "# print(KNN.best_score_)\n",
        "print(KNN.best_estimator_)\n",
        "print(KNN.best_params_)"
      ],
      "outputs": [
        {
          "output_type": "stream",
          "name": "stdout",
          "text": [
            "KNeighborsRegressor(algorithm='auto', leaf_size=30, metric='minkowski',\n",
            "                    metric_params=None, n_jobs=None, n_neighbors=11, p=2,\n",
            "                    weights='uniform')\n",
            "{'n_neighbors': 11}\n"
          ]
        }
      ],
      "metadata": {
        "colab": {
          "base_uri": "https://localhost:8080/"
        },
        "id": "Ib1ekU2wGJhP",
        "outputId": "15af74bd-cc9c-4637-b1f2-254c517e2241"
      }
    },
    {
      "cell_type": "code",
      "execution_count": null,
      "source": [
        "ks = range(1,20,2)\n",
        "weight =['uniform', 'distance']\n",
        "p = [1, 2]\n",
        "model = KNeighborsRegressor()\n",
        "KNN = GridSearchCV(model, param_grid=dict(n_neighbors=ks, p=p, weights=weight), cv=5, scoring='r2')\n",
        "KNN.fit(X_transformed, y)\n",
        "print(KNN.best_score_)\n",
        "print(KNN.best_estimator_)\n",
        "print(KNN.best_params_)"
      ],
      "outputs": [
        {
          "output_type": "stream",
          "name": "stdout",
          "text": [
            "0.6786880073546822\n",
            "KNeighborsRegressor(algorithm='auto', leaf_size=30, metric='minkowski',\n",
            "                    metric_params=None, n_jobs=None, n_neighbors=15, p=1,\n",
            "                    weights='distance')\n",
            "{'n_neighbors': 15, 'p': 1, 'weights': 'distance'}\n"
          ]
        }
      ],
      "metadata": {
        "colab": {
          "base_uri": "https://localhost:8080/"
        },
        "id": "iR45Y5Kzy9Fo",
        "outputId": "75bbfc23-0c06-4e0e-ccf9-b0ef943055fa"
      }
    },
    {
      "cell_type": "code",
      "execution_count": null,
      "source": [
        "pipe3 = Pipeline([('scaler', StandardScaler()),\n",
        "                 ('model', KNeighborsRegressor(n_neighbors=15, p=1, weights='distance'))])\n",
        "pipe3.fit(X_train, y_train)\n",
        "y_pd2 = pipe3.predict(X_train)\n",
        "y_test_pd2 = pipe3.predict(X_test)\n",
        "y_total2 = pipe3.predict(X)\n",
        "print(f'R2 score on Train set: {r2_score(y_train, y_pd2)}')\n",
        "print(f'R2 score on test set: {r2_score(y_test, y_test_pd2)}')\n",
        "print(f'R2 score on the whole set: {r2_score(y, y_total2)}')"
      ],
      "outputs": [
        {
          "output_type": "stream",
          "name": "stdout",
          "text": [
            "R2 score on Train set: 1.0\n",
            "R2 score on test set: 0.844243509292451\n",
            "R2 score on the whole set: 0.9665067013740838\n"
          ]
        }
      ],
      "metadata": {
        "colab": {
          "base_uri": "https://localhost:8080/"
        },
        "id": "dow4GbqS4qWw",
        "outputId": "a354a20f-ff7b-4a3c-d119-a139d4db8c83"
      }
    },
    {
      "cell_type": "code",
      "execution_count": null,
      "source": [
        "from sklearn.model_selection import cross_val_score\n",
        "from sklearn.neighbors import KNeighborsRegressor\n",
        "from sklearn.preprocessing import MinMaxScaler\n",
        "from sklearn.preprocessing import StandardScaler\n",
        "\n",
        "X_mms = MinMaxScaler().fit_transform(X)\n",
        "X_std = StandardScaler().fit_transform(X)\n",
        "val_error_rate = []\n",
        "neighbors_range = range(1,100,2) # hyperparameters\n",
        "for i in neighbors_range:\n",
        "    knn = KNeighborsRegressor(n_neighbors=i, p=1, weights='distance')\n",
        "    val_error = 1 - cross_val_score(knn, X_mms, y, cv=5).mean() # accuracy => error: 1 - accuracy\n",
        "    val_error_rate.append(val_error)\n",
        "    \n",
        "plt.figure(figsize=(15,7))\n",
        "plt.plot(neighbors_range, val_error_rate, color='red', linestyle='dashed', marker='o',\n",
        "         markerfacecolor='black', markersize=5, label='MinMaxScaler')\n",
        "\n",
        "val_error_rate = []\n",
        "neighbors_range = range(1,100,2) # hyperparameters\n",
        "for i in neighbors_range:\n",
        "    knn = KNeighborsRegressor(n_neighbors=i, p=1, weights='distance')\n",
        "    val_error = 1 - cross_val_score(knn, X_std, y, cv=5).mean() # accuracy => error: 1 - accuracy\n",
        "    val_error_rate.append(val_error)\n",
        "\n",
        "plt.plot(neighbors_range, val_error_rate, color='blue', linestyle='dashed', marker='o',\n",
        "         markerfacecolor='black', markersize=5, label='StandardScaler')\n",
        "\n",
        "plt.xticks(np.arange(neighbors_range.start, neighbors_range.stop, neighbors_range.step), rotation=45)\n",
        "plt.grid()\n",
        "plt.legend()\n",
        "plt.title('Validation Error vs. K Value')\n",
        "plt.xlabel('K')\n",
        "plt.ylabel('Validation Error')\n",
        "plt.show()"
      ],
      "outputs": [
        {
          "output_type": "display_data",
          "data": {
            "text/plain": [
              "<Figure size 1080x504 with 1 Axes>"
            ],
            "image/png": "[encoded data removed]"
          },
          "metadata": {
            "tags": [],
            "needs_background": "light"
          }
        }
      ],
      "metadata": {
        "colab": {
          "base_uri": "https://localhost:8080/",
          "height": 465
        },
        "id": "WF8ElxOP9ScA",
        "outputId": "2a22227f-a9a0-43a1-918d-d613873f3818"
      }
    },
    {
      "cell_type": "markdown",
      "source": [
        "## Choosing model"
      ],
      "metadata": {
        "id": "dT8WOCHbOEC4"
      }
    },
    {
      "cell_type": "markdown",
      "source": [
        "With result above, KNeighborsRegression model, with **{'n_neighbors': 15, 'p': 1, 'weights': 'distance'}** have the best result. But R2 100% score on Train Set is a suspicious result (compare to test set is only 84,4%)\n",
        "\n",
        "So i decide to choose KNeighborsRegression model, with **{'n_neighbors': 11, 'p': 2, 'weights': 'uniform'}**, with lower score on train set result but same as test set score compare with the model above."
      ],
      "metadata": {
        "id": "hUN3PH2x1nuo"
      }
    },
    {
      "cell_type": "markdown",
      "source": [
        "# Step 4: Reporting your R2 score\n",
        "\n",
        "Record your best R2 score here (from cross validation score). If you perform train/test split, record your R2 score on test set here as well."
      ],
      "metadata": {
        "id": "mrwhDUznpbzB"
      }
    },
    {
      "cell_type": "code",
      "execution_count": null,
      "source": [
        "# Considered model: KNN {'n_neighbors': 15, 'p': 1, 'weights': 'distance'}\n",
        "y_pd = pipe3.predict(X_train)\n",
        "y_total_pd = pipe3.predict(X)\n",
        "y_test_pd = pipe3.predict(X_test)\n",
        "print(f'R2 Score on Train set: {r2_score(y_train, y_pd)}')\n",
        "print(f'R2 Score on Test set: {r2_score(y_test, y_test_pd)}')\n",
        "print(f'R2 Score on the whole data set: {r2_score(y, y_total_pd)}')\n",
        "print(f'Best Cross Valdidation score (Mean): {cross_val_score(KNeighborsRegressor(n_neighbors=15, p=1, weights=\"distance\"), X_std, y, cv=5).mean()}')"
      ],
      "outputs": [
        {
          "output_type": "stream",
          "name": "stdout",
          "text": [
            "R2 Score on Train set: 1.0\n",
            "R2 Score on Test set: 0.844243509292451\n",
            "R2 Score on the whole data set: 0.9665067013740838\n",
            "Best Cross Valdidation score (Mean): 0.6786880073546822\n"
          ]
        }
      ],
      "metadata": {
        "id": "0PwrNkxqr9TJ",
        "colab": {
          "base_uri": "https://localhost:8080/"
        },
        "outputId": "83747de2-a56e-4489-d12a-cf760c2055d4"
      }
    },
    {
      "cell_type": "code",
      "execution_count": null,
      "source": [
        "# Chosen model: KNN {'n_neighbors': 11, 'p': 2, 'weights': 'uniform'}\n",
        "y_pd = pipe.predict(X_train)\n",
        "y_total_pd = pipe.predict(X)\n",
        "y_test_pd = pipe.predict(X_test)\n",
        "print(f'R2 Score on Train set: {r2_score(y_train, y_pd)}')\n",
        "print(f'R2 Score on Test set: {r2_score(y_test, y_test_pd)}')\n",
        "print(f'R2 Score on the whole data set: {r2_score(y, y_total_pd)}')\n",
        "print(f'Best Cross Valdidation score (Mean): {cross_val_score(KNeighborsRegressor(n_neighbors=11, p=2, weights=\"uniform\"), X_std, y, cv=5).mean()}')"
      ],
      "outputs": [
        {
          "output_type": "stream",
          "name": "stdout",
          "text": [
            "R2 Score on Train set: 0.8405803962808784\n",
            "R2 Score on Test set: 0.8452868526356568\n",
            "R2 Score on the whole data set: 0.8423077809651982\n",
            "Best Cross Valdidation score (Mean): 0.6648200542307642\n"
          ]
        }
      ],
      "metadata": {
        "colab": {
          "base_uri": "https://localhost:8080/"
        },
        "id": "-37Wm2ejDYGT",
        "outputId": "d19bc78b-dece-4c19-ff49-760c87fb01f7"
      }
    },
    {
      "cell_type": "markdown",
      "source": [
        "# Step 5: Making predictions"
      ],
      "metadata": {
        "id": "pvNfEbcYqtAU"
      }
    },
    {
      "cell_type": "markdown",
      "source": [
        "Imagine that you were a real estate agent in the Boston area looking to use this model to help price homes owned by your clients that they wish to sell. You have collected the following information from three of your clients:\n",
        "\n",
        "|Feature\t|Client 1\t|Client 2\t|Client 3|\n",
        "|-----------|-----------|-----------|--------|\n",
        "|Total number of rooms in home\t|5 rooms\t|4 rooms\t|8 rooms|\n",
        "|Neighborhood poverty level (as %)\t|17%\t|32%\t|3%|\n",
        "|Student-teacher ratio of nearby schools\t|15-to-1\t|22-to-1\t|12-to-1|\n",
        "\n",
        "What price would you recommend each client sell his/her home at?\n",
        "Do these prices seem reasonable given the values for the respective features?\n",
        "\n",
        "**Answer**: Recommend price for each Client is in the table below. These prices seem reasonable for the respective feature of each house.\n",
        "And it's in the price range of the true price as well."
      ],
      "metadata": {
        "id": "vwDl5_7qqurr"
      }
    },
    {
      "cell_type": "code",
      "execution_count": null,
      "source": [
        "# {'n_neighbors': 11, 'p': 2, 'weights': 'uniform'}\n",
        "data = np.array([[5, 17, 15],\n",
        "                 [4, 32, 22],\n",
        "                 [8, 3, 12]])\n",
        "cl = np.array(['Client 1', 'Client 2', 'Client 3'])\n",
        "X_new = pd.DataFrame(data, columns=['RM', 'LSTAT', 'PTRATIO'])\n",
        "y_new_pred = pipe.predict(X_new)\n",
        "\n",
        "columns = pd.DataFrame(y_new_pred.round(), columns=['MEDV'])\n",
        "client = pd.DataFrame(cl, columns=['Client'])\n",
        "X_result = pd.concat((X_new, columns, client),axis=1)\n",
        "X_result"
      ],
      "outputs": [
        {
          "output_type": "execute_result",
          "data": {
            "text/plain": [
              "   RM  LSTAT  PTRATIO      MEDV    Client\n",
              "0   5     17       15  397855.0  Client 1\n",
              "1   4     32       22  208855.0  Client 2\n",
              "2   8      3       12  865773.0  Client 3"
            ],
            "text/html": [
              "<div>\n",
              "<style scoped>\n",
              "    .dataframe tbody tr th:only-of-type {\n",
              "        vertical-align: middle;\n",
              "    }\n",
              "\n",
              "    .dataframe tbody tr th {\n",
              "        vertical-align: top;\n",
              "    }\n",
              "\n",
              "    .dataframe thead th {\n",
              "        text-align: right;\n",
              "    }\n",
              "</style>\n",
              "<table border=\"1\" class=\"dataframe\">\n",
              "  <thead>\n",
              "    <tr style=\"text-align: right;\">\n",
              "      <th></th>\n",
              "      <th>RM</th>\n",
              "      <th>LSTAT</th>\n",
              "      <th>PTRATIO</th>\n",
              "      <th>MEDV</th>\n",
              "      <th>Client</th>\n",
              "    </tr>\n",
              "  </thead>\n",
              "  <tbody>\n",
              "    <tr>\n",
              "      <th>0</th>\n",
              "      <td>5</td>\n",
              "      <td>17</td>\n",
              "      <td>15</td>\n",
              "      <td>397855.0</td>\n",
              "      <td>Client 1</td>\n",
              "    </tr>\n",
              "    <tr>\n",
              "      <th>1</th>\n",
              "      <td>4</td>\n",
              "      <td>32</td>\n",
              "      <td>22</td>\n",
              "      <td>208855.0</td>\n",
              "      <td>Client 2</td>\n",
              "    </tr>\n",
              "    <tr>\n",
              "      <th>2</th>\n",
              "      <td>8</td>\n",
              "      <td>3</td>\n",
              "      <td>12</td>\n",
              "      <td>865773.0</td>\n",
              "      <td>Client 3</td>\n",
              "    </tr>\n",
              "  </tbody>\n",
              "</table>\n",
              "</div>"
            ]
          },
          "metadata": {
            "tags": []
          },
          "execution_count": 53
        }
      ],
      "metadata": {
        "colab": {
          "base_uri": "https://localhost:8080/",
          "height": 136
        },
        "id": "UtpwdfRkA-Ub",
        "outputId": "99011261-3d6c-4cc1-8b3f-4cd4d53cc6f3"
      }
    },
    {
      "cell_type": "code",
      "execution_count": null,
      "source": [
        "# {'n_neighbors': 15, 'p': 1, 'weights': 'distance'}\n",
        "data = np.array([[5, 17, 15],\n",
        "                 [4, 32, 22],\n",
        "                 [8, 3, 12]])\n",
        "cl = np.array(['Client 1', 'Client 2', 'Client 3'])\n",
        "X_new = pd.DataFrame(data, columns=['RM', 'LSTAT', 'PTRATIO'])\n",
        "y_new_pred = pipe3.predict(X_new)\n",
        "\n",
        "columns = pd.DataFrame(y_new_pred.round(), columns=['MEDV'])\n",
        "client = pd.DataFrame(cl, columns=['Client'])\n",
        "X_result = pd.concat((X_new, columns, client),axis=1)\n",
        "X_result"
      ],
      "outputs": [
        {
          "output_type": "execute_result",
          "data": {
            "text/plain": [
              "   RM  LSTAT  PTRATIO      MEDV    Client\n",
              "0   5     17       15  377932.0  Client 1\n",
              "1   4     32       22  227868.0  Client 2\n",
              "2   8      3       12  865066.0  Client 3"
            ],
            "text/html": [
              "<div>\n",
              "<style scoped>\n",
              "    .dataframe tbody tr th:only-of-type {\n",
              "        vertical-align: middle;\n",
              "    }\n",
              "\n",
              "    .dataframe tbody tr th {\n",
              "        vertical-align: top;\n",
              "    }\n",
              "\n",
              "    .dataframe thead th {\n",
              "        text-align: right;\n",
              "    }\n",
              "</style>\n",
              "<table border=\"1\" class=\"dataframe\">\n",
              "  <thead>\n",
              "    <tr style=\"text-align: right;\">\n",
              "      <th></th>\n",
              "      <th>RM</th>\n",
              "      <th>LSTAT</th>\n",
              "      <th>PTRATIO</th>\n",
              "      <th>MEDV</th>\n",
              "      <th>Client</th>\n",
              "    </tr>\n",
              "  </thead>\n",
              "  <tbody>\n",
              "    <tr>\n",
              "      <th>0</th>\n",
              "      <td>5</td>\n",
              "      <td>17</td>\n",
              "      <td>15</td>\n",
              "      <td>377932.0</td>\n",
              "      <td>Client 1</td>\n",
              "    </tr>\n",
              "    <tr>\n",
              "      <th>1</th>\n",
              "      <td>4</td>\n",
              "      <td>32</td>\n",
              "      <td>22</td>\n",
              "      <td>227868.0</td>\n",
              "      <td>Client 2</td>\n",
              "    </tr>\n",
              "    <tr>\n",
              "      <th>2</th>\n",
              "      <td>8</td>\n",
              "      <td>3</td>\n",
              "      <td>12</td>\n",
              "      <td>865066.0</td>\n",
              "      <td>Client 3</td>\n",
              "    </tr>\n",
              "  </tbody>\n",
              "</table>\n",
              "</div>"
            ]
          },
          "metadata": {
            "tags": []
          },
          "execution_count": 54
        }
      ],
      "metadata": {
        "colab": {
          "base_uri": "https://localhost:8080/",
          "height": 136
        },
        "id": "9IORPu7D2Sqz",
        "outputId": "7605dbbc-348e-4167-856d-6ee761e35966"
      }
    },
    {
      "cell_type": "code",
      "execution_count": null,
      "source": [
        "df[(df['MEDV'] <= 400000) & (df['MEDV'] > 390000)]"
      ],
      "outputs": [
        {
          "output_type": "execute_result",
          "data": {
            "text/plain": [
              "        RM  LSTAT  PTRATIO      MEDV\n",
              "9    6.004  17.10     15.2  396900.0\n",
              "11   6.009  13.27     15.2  396900.0\n",
              "35   5.933   9.68     19.2  396900.0\n",
              "54   5.888  14.80     21.1  396900.0\n",
              "60   5.741  13.15     19.7  392700.0\n",
              "102  6.405  10.63     20.9  390600.0\n",
              "112  5.913  16.21     17.8  394800.0\n",
              "113  6.092  17.09     17.8  392700.0\n",
              "124  5.879  17.58     19.1  394800.0\n",
              "328  5.985   9.74     20.2  399000.0\n",
              "329  5.968   9.29     20.2  392700.0\n",
              "341  5.884   7.79     18.3  390600.0\n",
              "449  5.952  17.15     20.2  399000.0"
            ],
            "text/html": [
              "<div>\n",
              "<style scoped>\n",
              "    .dataframe tbody tr th:only-of-type {\n",
              "        vertical-align: middle;\n",
              "    }\n",
              "\n",
              "    .dataframe tbody tr th {\n",
              "        vertical-align: top;\n",
              "    }\n",
              "\n",
              "    .dataframe thead th {\n",
              "        text-align: right;\n",
              "    }\n",
              "</style>\n",
              "<table border=\"1\" class=\"dataframe\">\n",
              "  <thead>\n",
              "    <tr style=\"text-align: right;\">\n",
              "      <th></th>\n",
              "      <th>RM</th>\n",
              "      <th>LSTAT</th>\n",
              "      <th>PTRATIO</th>\n",
              "      <th>MEDV</th>\n",
              "    </tr>\n",
              "  </thead>\n",
              "  <tbody>\n",
              "    <tr>\n",
              "      <th>9</th>\n",
              "      <td>6.004</td>\n",
              "      <td>17.10</td>\n",
              "      <td>15.2</td>\n",
              "      <td>396900.0</td>\n",
              "    </tr>\n",
              "    <tr>\n",
              "      <th>11</th>\n",
              "      <td>6.009</td>\n",
              "      <td>13.27</td>\n",
              "      <td>15.2</td>\n",
              "      <td>396900.0</td>\n",
              "    </tr>\n",
              "    <tr>\n",
              "      <th>35</th>\n",
              "      <td>5.933</td>\n",
              "      <td>9.68</td>\n",
              "      <td>19.2</td>\n",
              "      <td>396900.0</td>\n",
              "    </tr>\n",
              "    <tr>\n",
              "      <th>54</th>\n",
              "      <td>5.888</td>\n",
              "      <td>14.80</td>\n",
              "      <td>21.1</td>\n",
              "      <td>396900.0</td>\n",
              "    </tr>\n",
              "    <tr>\n",
              "      <th>60</th>\n",
              "      <td>5.741</td>\n",
              "      <td>13.15</td>\n",
              "      <td>19.7</td>\n",
              "      <td>392700.0</td>\n",
              "    </tr>\n",
              "    <tr>\n",
              "      <th>102</th>\n",
              "      <td>6.405</td>\n",
              "      <td>10.63</td>\n",
              "      <td>20.9</td>\n",
              "      <td>390600.0</td>\n",
              "    </tr>\n",
              "    <tr>\n",
              "      <th>112</th>\n",
              "      <td>5.913</td>\n",
              "      <td>16.21</td>\n",
              "      <td>17.8</td>\n",
              "      <td>394800.0</td>\n",
              "    </tr>\n",
              "    <tr>\n",
              "      <th>113</th>\n",
              "      <td>6.092</td>\n",
              "      <td>17.09</td>\n",
              "      <td>17.8</td>\n",
              "      <td>392700.0</td>\n",
              "    </tr>\n",
              "    <tr>\n",
              "      <th>124</th>\n",
              "      <td>5.879</td>\n",
              "      <td>17.58</td>\n",
              "      <td>19.1</td>\n",
              "      <td>394800.0</td>\n",
              "    </tr>\n",
              "    <tr>\n",
              "      <th>328</th>\n",
              "      <td>5.985</td>\n",
              "      <td>9.74</td>\n",
              "      <td>20.2</td>\n",
              "      <td>399000.0</td>\n",
              "    </tr>\n",
              "    <tr>\n",
              "      <th>329</th>\n",
              "      <td>5.968</td>\n",
              "      <td>9.29</td>\n",
              "      <td>20.2</td>\n",
              "      <td>392700.0</td>\n",
              "    </tr>\n",
              "    <tr>\n",
              "      <th>341</th>\n",
              "      <td>5.884</td>\n",
              "      <td>7.79</td>\n",
              "      <td>18.3</td>\n",
              "      <td>390600.0</td>\n",
              "    </tr>\n",
              "    <tr>\n",
              "      <th>449</th>\n",
              "      <td>5.952</td>\n",
              "      <td>17.15</td>\n",
              "      <td>20.2</td>\n",
              "      <td>399000.0</td>\n",
              "    </tr>\n",
              "  </tbody>\n",
              "</table>\n",
              "</div>"
            ]
          },
          "metadata": {
            "tags": []
          },
          "execution_count": 55
        }
      ],
      "metadata": {
        "id": "oXwRNk2n_GiL",
        "colab": {
          "base_uri": "https://localhost:8080/",
          "height": 432
        },
        "outputId": "762bc5ce-f310-4694-f72b-a705b782b1cc"
      }
    },
    {
      "cell_type": "code",
      "execution_count": null,
      "source": [
        "df[(df['MEDV'] <= 220000) & (df['MEDV'] > 190000)]"
      ],
      "outputs": [
        {
          "output_type": "execute_result",
          "data": {
            "text/plain": [
              "        RM  LSTAT  PTRATIO      MEDV\n",
              "362  6.223  21.78     20.2  214200.0\n",
              "363  6.968  17.21     20.2  218400.0\n",
              "371  4.880  30.62     20.2  214200.0\n",
              "375  5.036  25.68     20.2  203700.0\n",
              "400  5.304  26.64     20.2  218400.0\n",
              "409  5.837  15.69     20.2  214200.0\n",
              "412  6.380  24.08     20.2  199500.0\n",
              "419  6.461  18.05     20.2  201600.0"
            ],
            "text/html": [
              "<div>\n",
              "<style scoped>\n",
              "    .dataframe tbody tr th:only-of-type {\n",
              "        vertical-align: middle;\n",
              "    }\n",
              "\n",
              "    .dataframe tbody tr th {\n",
              "        vertical-align: top;\n",
              "    }\n",
              "\n",
              "    .dataframe thead th {\n",
              "        text-align: right;\n",
              "    }\n",
              "</style>\n",
              "<table border=\"1\" class=\"dataframe\">\n",
              "  <thead>\n",
              "    <tr style=\"text-align: right;\">\n",
              "      <th></th>\n",
              "      <th>RM</th>\n",
              "      <th>LSTAT</th>\n",
              "      <th>PTRATIO</th>\n",
              "      <th>MEDV</th>\n",
              "    </tr>\n",
              "  </thead>\n",
              "  <tbody>\n",
              "    <tr>\n",
              "      <th>362</th>\n",
              "      <td>6.223</td>\n",
              "      <td>21.78</td>\n",
              "      <td>20.2</td>\n",
              "      <td>214200.0</td>\n",
              "    </tr>\n",
              "    <tr>\n",
              "      <th>363</th>\n",
              "      <td>6.968</td>\n",
              "      <td>17.21</td>\n",
              "      <td>20.2</td>\n",
              "      <td>218400.0</td>\n",
              "    </tr>\n",
              "    <tr>\n",
              "      <th>371</th>\n",
              "      <td>4.880</td>\n",
              "      <td>30.62</td>\n",
              "      <td>20.2</td>\n",
              "      <td>214200.0</td>\n",
              "    </tr>\n",
              "    <tr>\n",
              "      <th>375</th>\n",
              "      <td>5.036</td>\n",
              "      <td>25.68</td>\n",
              "      <td>20.2</td>\n",
              "      <td>203700.0</td>\n",
              "    </tr>\n",
              "    <tr>\n",
              "      <th>400</th>\n",
              "      <td>5.304</td>\n",
              "      <td>26.64</td>\n",
              "      <td>20.2</td>\n",
              "      <td>218400.0</td>\n",
              "    </tr>\n",
              "    <tr>\n",
              "      <th>409</th>\n",
              "      <td>5.837</td>\n",
              "      <td>15.69</td>\n",
              "      <td>20.2</td>\n",
              "      <td>214200.0</td>\n",
              "    </tr>\n",
              "    <tr>\n",
              "      <th>412</th>\n",
              "      <td>6.380</td>\n",
              "      <td>24.08</td>\n",
              "      <td>20.2</td>\n",
              "      <td>199500.0</td>\n",
              "    </tr>\n",
              "    <tr>\n",
              "      <th>419</th>\n",
              "      <td>6.461</td>\n",
              "      <td>18.05</td>\n",
              "      <td>20.2</td>\n",
              "      <td>201600.0</td>\n",
              "    </tr>\n",
              "  </tbody>\n",
              "</table>\n",
              "</div>"
            ]
          },
          "metadata": {
            "tags": []
          },
          "execution_count": 56
        }
      ],
      "metadata": {
        "id": "8LF4Lrbn_mty",
        "colab": {
          "base_uri": "https://localhost:8080/",
          "height": 284
        },
        "outputId": "c31e7ea9-5352-4cfd-d7d8-d44144218d22"
      }
    },
    {
      "cell_type": "code",
      "execution_count": null,
      "source": [
        "df[(df['MEDV'] <= 880000) & (df['MEDV'] > 860000)]"
      ],
      "outputs": [
        {
          "output_type": "execute_result",
          "data": {
            "text/plain": [
              "        RM  LSTAT  PTRATIO      MEDV\n",
              "157  6.943   4.59     14.7  867300.0\n",
              "224  8.337   2.47     17.4  875700.0"
            ],
            "text/html": [
              "<div>\n",
              "<style scoped>\n",
              "    .dataframe tbody tr th:only-of-type {\n",
              "        vertical-align: middle;\n",
              "    }\n",
              "\n",
              "    .dataframe tbody tr th {\n",
              "        vertical-align: top;\n",
              "    }\n",
              "\n",
              "    .dataframe thead th {\n",
              "        text-align: right;\n",
              "    }\n",
              "</style>\n",
              "<table border=\"1\" class=\"dataframe\">\n",
              "  <thead>\n",
              "    <tr style=\"text-align: right;\">\n",
              "      <th></th>\n",
              "      <th>RM</th>\n",
              "      <th>LSTAT</th>\n",
              "      <th>PTRATIO</th>\n",
              "      <th>MEDV</th>\n",
              "    </tr>\n",
              "  </thead>\n",
              "  <tbody>\n",
              "    <tr>\n",
              "      <th>157</th>\n",
              "      <td>6.943</td>\n",
              "      <td>4.59</td>\n",
              "      <td>14.7</td>\n",
              "      <td>867300.0</td>\n",
              "    </tr>\n",
              "    <tr>\n",
              "      <th>224</th>\n",
              "      <td>8.337</td>\n",
              "      <td>2.47</td>\n",
              "      <td>17.4</td>\n",
              "      <td>875700.0</td>\n",
              "    </tr>\n",
              "  </tbody>\n",
              "</table>\n",
              "</div>"
            ]
          },
          "metadata": {
            "tags": []
          },
          "execution_count": 57
        }
      ],
      "metadata": {
        "id": "3g2XJp9__zZ2",
        "colab": {
          "base_uri": "https://localhost:8080/",
          "height": 106
        },
        "outputId": "835f17de-b47c-44f4-f9a2-1258ba62aaed"
      }
    },
    {
      "cell_type": "markdown",
      "source": [
        "# Step 6: Applicability\n",
        "\n",
        "In a few sentences, discuss whether the constructed model should or should not be used in a real-world setting.\n",
        "\n",
        "Hint: Take a look at the range in prices as calculated in the code snippet above. Some questions to answering:\n",
        "\n",
        "- How relevant today is data that was collected from 1978? How important is inflation?\n",
        "\n",
        "        We can use data from 1978 but we have to exchange the value of price from that time to current price\n",
        "        (depend on inflation overtime).\n",
        "\n",
        "- Are the features present in the data sufficient to describe a home? Do you think factors like quality of apppliances in the home, square feet of the plot area, presence of pool or not etc should factor in?\n",
        "\n",
        "        I think these 3 feature is good features to predicts the price, but if we want to use it in real life situation,\n",
        "        it'll need much more feature to predict the price of house (square feet, pool, number of floors, furniture,...)\n",
        "\n",
        "- Is the model robust enough to make consistent predictions?\n",
        "Would data collected in an urban city like Boston be applicable in a rural city?\n",
        "\n",
        "        I think our model is not robust enough to make consistent prediction. Because It was trained just a few feature, \n",
        "        not enough feature to cover all the situation, place, class,..\n",
        "- Is it fair to judge the price of an individual home based on the characteristics of the entire neighborhood?\n",
        "        No, it need to be consider much more feature\n",
        "        (e.g. square feet, pool, number of floors, furniture, city, state, country...)"
      ],
      "metadata": {
        "id": "Wwq9I7Nor0CP"
      }
    }
  ]
}